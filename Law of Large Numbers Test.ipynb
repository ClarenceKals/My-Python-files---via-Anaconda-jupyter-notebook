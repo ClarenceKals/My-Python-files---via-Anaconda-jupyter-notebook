{
 "cells": [
  {
   "cell_type": "markdown",
   "metadata": {},
   "source": [
    "Law of Large Numbers test\n"
   ]
  },
  {
   "cell_type": "code",
   "execution_count": 1,
   "metadata": {},
   "outputs": [],
   "source": [
    "# To show that as n increases, mean for normally distributed random values between -1 & 1 approaches 68%"
   ]
  },
  {
   "cell_type": "markdown",
   "metadata": {},
   "source": [
    "---"
   ]
  },
  {
   "cell_type": "code",
   "execution_count": 95,
   "metadata": {},
   "outputs": [
    {
     "name": "stdout",
     "output_type": "stream",
     "text": [
      "0.682796\n"
     ]
    }
   ],
   "source": [
    "import numpy as np  # import numpy package\n",
    "from numpy.random import randn\n",
    "\n",
    "i = 0\n",
    "n = 1000000\n",
    "count = 0\n",
    "for i in range(n):\n",
    "    x = randn()\n",
    "    if x > -1 and x < 1:\n",
    "        count = count + 1\n",
    "mean = count/n\n",
    "print(mean)\n",
    "   "
   ]
  },
  {
   "cell_type": "code",
   "execution_count": 118,
   "metadata": {},
   "outputs": [
    {
     "name": "stdout",
     "output_type": "stream",
     "text": [
      "0.68379\n"
     ]
    }
   ],
   "source": [
    "# per hint 1\n",
    "import numpy as np\n",
    "from numpy.random import randn  # random number generator\n",
    "\n",
    "i = 0\n",
    "n = 100000\n",
    "count = 0\n",
    "for x in randn(n):\n",
    "    if x > -1 and x < 1:\n",
    "        count = count + 1\n",
    "mean = count/n\n",
    "print(mean)\n",
    "   "
   ]
  },
  {
   "cell_type": "code",
   "execution_count": null,
   "metadata": {},
   "outputs": [],
   "source": []
  }
 ],
 "metadata": {
  "kernelspec": {
   "display_name": "Python 3",
   "language": "python",
   "name": "python3"
  },
  "language_info": {
   "codemirror_mode": {
    "name": "ipython",
    "version": 3
   },
   "file_extension": ".py",
   "mimetype": "text/x-python",
   "name": "python",
   "nbconvert_exporter": "python",
   "pygments_lexer": "ipython3",
   "version": "3.7.0"
  }
 },
 "nbformat": 4,
 "nbformat_minor": 2
}
