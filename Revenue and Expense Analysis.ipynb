{
 "cells": [
  {
   "cell_type": "code",
   "execution_count": 1,
   "metadata": {},
   "outputs": [],
   "source": [
    "#Data \n",
    "revenue = [14574.49, 7606.46, 8611.41, 9175.41, 8058.65, 8105.44, 11496.28, 9766.09, 10305.32, 14379.96, 10713.97, 15433.50]\n",
    "expenses = [12051.82, 5695.07, 12319.20, 12089.72, 8658.57, 840.20, 3285.73, 5821.12, 6976.93, 16618.61, 10054.37, 3803.96]"
   ]
  },
  {
   "cell_type": "markdown",
   "metadata": {},
   "source": [
    "---"
   ]
  },
  {
   "cell_type": "code",
   "execution_count": 3,
   "metadata": {},
   "outputs": [
    {
     "data": {
      "text/plain": [
       "'February'"
      ]
     },
     "execution_count": 3,
     "metadata": {},
     "output_type": "execute_result"
    }
   ],
   "source": [
    "# Creating dictionary for months\n",
    "Mdict = {0: 'January', 1: 'February', 2: 'March', 3: 'April', 4: 'May', 5: 'June', 6: 'July',\n",
    "         7: 'August', 8: 'September', 9: 'October', 10: 'November', 11: 'December'}\n",
    "Mdict[1]"
   ]
  },
  {
   "cell_type": "code",
   "execution_count": 8,
   "metadata": {},
   "outputs": [],
   "source": [
    "# imports\n",
    "\n",
    "import numpy as np"
   ]
  },
  {
   "cell_type": "code",
   "execution_count": 4,
   "metadata": {},
   "outputs": [
    {
     "name": "stdout",
     "output_type": "stream",
     "text": [
      "Profits before tax are [2500.0, 1900.0, -3700.0, -2900.0, -600.0, 7300.0, 8200.0, 3900.0, 3300.0, -2200.0, 700.0, 11600.0]\n"
     ]
    }
   ],
   "source": [
    "# Profit calculation\n",
    "\n",
    "listprofit = [] \n",
    "count = len(revenue)\n",
    "for i in range(0,count):\n",
    "    listprofit.append(round(revenue[i] - expenses[i],2))\n",
    "pr = listprofit # list of profits\n",
    "print('Profits before tax are',[round(i, -2) for i in pr])"
   ]
  },
  {
   "cell_type": "code",
   "execution_count": 5,
   "metadata": {},
   "outputs": [
    {
     "name": "stdout",
     "output_type": "stream",
     "text": [
      "Profits after 30% tax are [1800.0, 1300.0, -2600.0, -2000.0, -400.0, 5100.0, 5700.0, 2800.0, 2300.0, -1600.0, 500.0, 8100.0]\n"
     ]
    }
   ],
   "source": [
    "# Profits after 30% tax\n",
    "\n",
    "after_taxprofit = [round(i * .7, 2) for i in listprofit]\n",
    "print('Profits after 30% tax are', [round(i, -2) for i in after_taxprofit])"
   ]
  },
  {
   "cell_type": "code",
   "execution_count": 21,
   "metadata": {
    "scrolled": true
   },
   "outputs": [
    {
     "name": "stdout",
     "output_type": "stream",
     "text": [
      "Profit margins in %s are [12.0, 18.0, -30.0, -22.0, -5.0, 63.0, 50.0, 28.0, 23.0, -11.0, 4.0, 53.0] for ['January', 'February', 'March', 'April', 'May', 'June', 'July', 'August', 'September', 'October', 'November', 'December'] respectively\n"
     ]
    }
   ],
   "source": [
    "# Profit margings\n",
    "mths = []\n",
    "profit_margin = [] \n",
    "count = len(revenue)\n",
    "for i in range(0,count):\n",
    "    profit_margin.append(round(round(after_taxprofit[i] / revenue[i],2) * 100, 0))\n",
    "    mths.append(Mdict[i])\n",
    "print('Profit margins in %s are', profit_margin , 'for', mths, 'respectively') # list of profit margins"
   ]
  },
  {
   "cell_type": "code",
   "execution_count": null,
   "metadata": {},
   "outputs": [],
   "source": []
  },
  {
   "cell_type": "code",
   "execution_count": 17,
   "metadata": {},
   "outputs": [
    {
     "name": "stdout",
     "output_type": "stream",
     "text": [
      "Mean profit after tax is 1800.0\n",
      "Max profit after tax is 8100.0\n",
      "Min profit after tax is -2600.0\n"
     ]
    }
   ],
   "source": [
    "#Mean, Max. and Min. after tax profit\n",
    "\n",
    "array_profits = np.array(after_taxprofit)\n",
    "Mean_aftertax = array_profits.mean()\n",
    "Max_aftertax = array_profits.max()\n",
    "Min_aftertax = array_profits.min()\n",
    "print('Mean profit after tax is', round(Mean_aftertax, -2))\n",
    "print('Max profit after tax is', round(Max_aftertax, -2))\n",
    "print('Min profit after tax is', round(Min_aftertax, -2))"
   ]
  },
  {
   "cell_type": "code",
   "execution_count": 10,
   "metadata": {},
   "outputs": [
    {
     "name": "stdout",
     "output_type": "stream",
     "text": [
      "Good mths are ['January', 'June', 'July', 'August', 'September', 'December']\n",
      "Bad mths are ['February', 'March', 'April', 'May', 'October', 'November']\n"
     ]
    }
   ],
   "source": [
    "# Good mths vs bad mths\n",
    "\n",
    "good_mth = []\n",
    "bad_mth = []\n",
    "for i in range(0, len(revenue)):\n",
    "    if array_profits[i] > Mean_aftertax:\n",
    "        good_mth.append(Mdict[i])\n",
    "    else:\n",
    "        bad_mth.append(Mdict[i])\n",
    "print('Good mths are',good_mth)\n",
    "print('Bad mths are', bad_mth)"
   ]
  },
  {
   "cell_type": "code",
   "execution_count": 11,
   "metadata": {},
   "outputs": [
    {
     "name": "stdout",
     "output_type": "stream",
     "text": [
      "Best mth is December\n",
      "Worst mth is March\n"
     ]
    }
   ],
   "source": [
    "#Best vs worst mth for profits\n",
    "\n",
    "for i in range(0, len(revenue)):\n",
    "    if array_profits[i] == Max_aftertax:\n",
    "        best_mth = Mdict[i]\n",
    "    elif array_profits[i] == Min_aftertax:\n",
    "        worst_mth = Mdict[i]\n",
    "print('Best mth is',best_mth)\n",
    "print('Worst mth is', worst_mth)"
   ]
  },
  {
   "cell_type": "code",
   "execution_count": null,
   "metadata": {},
   "outputs": [],
   "source": []
  }
 ],
 "metadata": {
  "kernelspec": {
   "display_name": "Python 3",
   "language": "python",
   "name": "python3"
  },
  "language_info": {
   "codemirror_mode": {
    "name": "ipython",
    "version": 3
   },
   "file_extension": ".py",
   "mimetype": "text/x-python",
   "name": "python",
   "nbconvert_exporter": "python",
   "pygments_lexer": "ipython3",
   "version": "3.7.0"
  }
 },
 "nbformat": 4,
 "nbformat_minor": 1
}
